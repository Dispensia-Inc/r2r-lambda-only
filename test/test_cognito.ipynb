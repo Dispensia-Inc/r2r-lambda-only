{
 "cells": [
  {
   "cell_type": "markdown",
   "metadata": {},
   "source": [
    "https://{ドメイン名}.auth.{リージョン名}.amazoncognito.com/login?response_type={レスポンスタイプ※}&client_id={クライアントID}&redirect_uri={リダイレクトURL}\n",
    "\n",
    "※レスポンスタイプは\"token\"か\"code\"を選択します。(今回の設定ならtokenを設定)\n",
    "\n",
    "https://accelerate.auth.ap-northeast-1.amazoncognito.com/login?response_type=token&client_id=9eig21r0tgoif1go2396mu7me&redirect_uri=http://www.example.com"
   ]
  },
  {
   "cell_type": "code",
   "execution_count": null,
   "metadata": {},
   "outputs": [],
   "source": [
    "import boto3\n",
    "client = boto3.client('cognito-idp')\n",
    "response = client.get_signing_certificate(\n",
    "    UserPoolId='ap-northeast-1_vO8omYbxr'\n",
    ")"
   ]
  },
  {
   "cell_type": "code",
   "execution_count": null,
   "metadata": {},
   "outputs": [],
   "source": [
    "import boto3\n",
    "\n",
    "token = \"\"\n",
    "client = boto3.client('cognito-idp')\n",
    "client.get_user(\n",
    "    AccessToken=token\n",
    ")\n"
   ]
  }
 ],
 "metadata": {
  "kernelspec": {
   "display_name": "accelerate-workspace",
   "language": "python",
   "name": "python3"
  },
  "language_info": {
   "codemirror_mode": {
    "name": "ipython",
    "version": 3
   },
   "file_extension": ".py",
   "mimetype": "text/x-python",
   "name": "python",
   "nbconvert_exporter": "python",
   "pygments_lexer": "ipython3",
   "version": "3.12.6"
  }
 },
 "nbformat": 4,
 "nbformat_minor": 2
}

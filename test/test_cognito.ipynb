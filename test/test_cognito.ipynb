{
 "cells": [
  {
   "cell_type": "markdown",
   "metadata": {},
   "source": [
    "https://{ドメイン名}.auth.{リージョン名}.amazoncognito.com/login?response_type={レスポンスタイプ※}&client_id={クライアントID}&redirect_uri={リダイレクトURL}\n",
    "\n",
    "※レスポンスタイプは\"token\"か\"code\"を選択します。(今回の設定ならtokenを設定)\n",
    "\n",
    "https://accelerate.auth.ap-northeast-1.amazoncognito.com/login?response_type=token&client_id=9eig21r0tgoif1go2396mu7me&redirect_uri=http://www.example.com"
   ]
  },
  {
   "cell_type": "code",
   "execution_count": 2,
   "metadata": {},
   "outputs": [
    {
     "data": {
      "text/plain": [
       "{'Username': '67e49a28-c001-70ad-ebdd-e14ae4373f25',\n",
       " 'UserAttributes': [{'Name': 'email', 'Value': 'kanten520212@gmail.com'},\n",
       "  {'Name': 'email_verified', 'Value': 'true'},\n",
       "  {'Name': 'sub', 'Value': '67e49a28-c001-70ad-ebdd-e14ae4373f25'}],\n",
       " 'ResponseMetadata': {'RequestId': 'a420334f-22a1-40be-9edd-4c2905a8b34a',\n",
       "  'HTTPStatusCode': 200,\n",
       "  'HTTPHeaders': {'date': 'Sat, 23 Nov 2024 12:07:56 GMT',\n",
       "   'content-type': 'application/x-amz-json-1.1',\n",
       "   'content-length': '223',\n",
       "   'connection': 'keep-alive',\n",
       "   'x-amzn-requestid': 'a420334f-22a1-40be-9edd-4c2905a8b34a'},\n",
       "  'RetryAttempts': 0}}"
      ]
     },
     "execution_count": 2,
     "metadata": {},
     "output_type": "execute_result"
    }
   ],
   "source": [
    "import boto3\n",
    "\n",
    "token = \"eyJraWQiOiJ1Q3BObHlEbTBEWTNMNG1kbXY4cnJsdzBETXk3U0MzZmdvQXhsdjZLeUhVPSIsImFsZyI6IlJTMjU2In0.eyJzdWIiOiI2N2U0OWEyOC1jMDAxLTcwYWQtZWJkZC1lMTRhZTQzNzNmMjUiLCJpc3MiOiJodHRwczpcL1wvY29nbml0by1pZHAuYXAtbm9ydGhlYXN0LTEuYW1hem9uYXdzLmNvbVwvYXAtbm9ydGhlYXN0LTFfTWFoblJCbkd3IiwiY2xpZW50X2lkIjoiMmhoZG5saThjc2JydDUxdnA2MG4wcG1lcTgiLCJvcmlnaW5fanRpIjoiMzgwNmMyZjctZDc3Yi00ZDUxLWI4NzUtNDdhOTJhNTRhZTA2IiwiZXZlbnRfaWQiOiIyODE2NWMzNi00YzYzLTQ0MDUtOTc2OS01NDRjN2UxMDM3NWMiLCJ0b2tlbl91c2UiOiJhY2Nlc3MiLCJzY29wZSI6ImF3cy5jb2duaXRvLnNpZ25pbi51c2VyLmFkbWluIiwiYXV0aF90aW1lIjoxNzMxNzYwMjU4LCJleHAiOjE3MzIzNjU0NDUsImlhdCI6MTczMjM2MTg0NSwianRpIjoiMmFkZTA5ZGItMWYzYy00NDEwLTg4YTYtMDI2ZGZiYzRkNmIzIiwidXNlcm5hbWUiOiI2N2U0OWEyOC1jMDAxLTcwYWQtZWJkZC1lMTRhZTQzNzNmMjUifQ.w6Wqsh3TgVBaOi5s_Rb2KOpw2EeOZtjyAXhT9CAQlull1b58M_ToSLRKS34MfUEVYdVLVPf4LaEN3kp8e9578y1mee7aXH_oVEb-jRikEaJRjA6LsX3jSKjDOAMSbDVQ4WogluV2ZJGLKv6Fsw73bUyC0E6hstXZdbkSoOaau4__hefaQdEOEz-gG6Fry3QaWdc2w7Lh5Bioi-XK0BqvdCEh79s14oofNOrHNi0GRSm7vhorHf5R8-C_gjab6tOB6UdFgAxo0_Y6T3eJmQxLdtGqsmFz1k1yV8E1lTrhzSFOp18hGrY_Qu0lwnNvv5TANZLkFf5DjBHdWVgMehvTJQ\"\n",
    "client = boto3.client('cognito-idp')\n",
    "client.get_user(\n",
    "    AccessToken=token\n",
    ")\n"
   ]
  }
 ],
 "metadata": {
  "kernelspec": {
   "display_name": "accelerate-workspace",
   "language": "python",
   "name": "python3"
  },
  "language_info": {
   "codemirror_mode": {
    "name": "ipython",
    "version": 3
   },
   "file_extension": ".py",
   "mimetype": "text/x-python",
   "name": "python",
   "nbconvert_exporter": "python",
   "pygments_lexer": "ipython3",
   "version": "3.12.6"
  }
 },
 "nbformat": 4,
 "nbformat_minor": 2
}

{
 "cells": [
  {
   "cell_type": "markdown",
   "metadata": {},
   "source": [
    "https://{ドメイン名}.auth.{リージョン名}.amazoncognito.com/login?response_type={レスポンスタイプ※}&client_id={クライアントID}&redirect_uri={リダイレクトURL}\n",
    "\n",
    "※レスポンスタイプは\"token\"か\"code\"を選択します。(今回の設定ならtokenを設定)\n",
    "\n",
    "https://accelerate.auth.ap-northeast-1.amazoncognito.com/login?response_type=token&client_id=9eig21r0tgoif1go2396mu7me&redirect_uri=http://www.example.com"
   ]
  },
  {
   "cell_type": "code",
   "execution_count": 4,
   "metadata": {},
   "outputs": [
    {
     "data": {
      "text/plain": [
       "{'Username': '67e49a28-c001-70ad-ebdd-e14ae4373f25',\n",
       " 'UserAttributes': [{'Name': 'email', 'Value': 'kanten520212@gmail.com'},\n",
       "  {'Name': 'email_verified', 'Value': 'true'},\n",
       "  {'Name': 'sub', 'Value': '67e49a28-c001-70ad-ebdd-e14ae4373f25'}],\n",
       " 'ResponseMetadata': {'RequestId': '8df80c34-294f-4d8c-92a0-df8cdb000e5d',\n",
       "  'HTTPStatusCode': 200,\n",
       "  'HTTPHeaders': {'date': 'Sat, 16 Nov 2024 13:15:41 GMT',\n",
       "   'content-type': 'application/x-amz-json-1.1',\n",
       "   'content-length': '223',\n",
       "   'connection': 'keep-alive',\n",
       "   'x-amzn-requestid': '8df80c34-294f-4d8c-92a0-df8cdb000e5d'},\n",
       "  'RetryAttempts': 0}}"
      ]
     },
     "execution_count": 4,
     "metadata": {},
     "output_type": "execute_result"
    }
   ],
   "source": [
    "import boto3\n",
    "\n",
    "token = \"eyJraWQiOiJ1Q3BObHlEbTBEWTNMNG1kbXY4cnJsdzBETXk3U0MzZmdvQXhsdjZLeUhVPSIsImFsZyI6IlJTMjU2In0.eyJzdWIiOiI2N2U0OWEyOC1jMDAxLTcwYWQtZWJkZC1lMTRhZTQzNzNmMjUiLCJpc3MiOiJodHRwczpcL1wvY29nbml0by1pZHAuYXAtbm9ydGhlYXN0LTEuYW1hem9uYXdzLmNvbVwvYXAtbm9ydGhlYXN0LTFfTWFoblJCbkd3IiwiY2xpZW50X2lkIjoiMmhoZG5saThjc2JydDUxdnA2MG4wcG1lcTgiLCJvcmlnaW5fanRpIjoiMzgwNmMyZjctZDc3Yi00ZDUxLWI4NzUtNDdhOTJhNTRhZTA2IiwiZXZlbnRfaWQiOiIyODE2NWMzNi00YzYzLTQ0MDUtOTc2OS01NDRjN2UxMDM3NWMiLCJ0b2tlbl91c2UiOiJhY2Nlc3MiLCJzY29wZSI6ImF3cy5jb2duaXRvLnNpZ25pbi51c2VyLmFkbWluIiwiYXV0aF90aW1lIjoxNzMxNzYwMjU4LCJleHAiOjE3MzE3NjM4NTgsImlhdCI6MTczMTc2MDI1OCwianRpIjoiOTFkYjRkNDMtY2Q3Ni00N2ViLTg4ODAtY2IzMWNmYzY5MmQ3IiwidXNlcm5hbWUiOiI2N2U0OWEyOC1jMDAxLTcwYWQtZWJkZC1lMTRhZTQzNzNmMjUifQ.uBEZLcIvaKEuiDsVLSur-34BItLwBl3iH1GYlm0GEkDQ6e1BglyQ4Z_X7Db90MfhT2bIEieRvNaSU83RBajwwF77GIujqtcm_f6CpZunWgCPZIHGwQ33j7Dtln3yvzVNpVeUBa5-HDDwXUWFkKMtuDSxSC1Pl6KpXtr3OU1ZmpvBOVqOrHo2jIO61zcmcAIuhETYNGgVn20Rv-H05qGO017aOhKpoILfT74Iu4E27lHF6Q6jwIhMCsMCGzG77bdqOG1DgCIZ9peIIj9E29T-8ZbI4O6-9LKlHEJ2cWCi5sx5LsRFl_CcItVhfV2hR1DVbwhxdqHg8bmFx87M-iAbjA\"\n",
    "client = boto3.client('cognito-idp')\n",
    "client.get_user(\n",
    "    AccessToken=token\n",
    ")\n"
   ]
  }
 ],
 "metadata": {
  "kernelspec": {
   "display_name": "accelerate-workspace",
   "language": "python",
   "name": "python3"
  },
  "language_info": {
   "codemirror_mode": {
    "name": "ipython",
    "version": 3
   },
   "file_extension": ".py",
   "mimetype": "text/x-python",
   "name": "python",
   "nbconvert_exporter": "python",
   "pygments_lexer": "ipython3",
   "version": "3.12.6"
  }
 },
 "nbformat": 4,
 "nbformat_minor": 2
}
